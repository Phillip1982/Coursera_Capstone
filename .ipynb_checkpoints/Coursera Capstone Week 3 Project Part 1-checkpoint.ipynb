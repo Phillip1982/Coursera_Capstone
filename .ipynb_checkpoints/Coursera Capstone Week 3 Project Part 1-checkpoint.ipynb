{
 "cells": [
  {
   "cell_type": "markdown",
   "id": "natural-edmonton",
   "metadata": {},
   "source": [
    "### Week 3 Segmentation Project Part 1"
   ]
  },
  {
   "cell_type": "code",
   "execution_count": 1,
   "id": "killing-mechanism",
   "metadata": {},
   "outputs": [
    {
     "name": "stdout",
     "output_type": "stream",
     "text": [
      "Defaulting to user installation because normal site-packages is not writeable\n",
      "Collecting geopy\n",
      "  Downloading geopy-2.1.0-py3-none-any.whl (112 kB)\n",
      "\u001b[K     |████████████████████████████████| 112 kB 2.2 MB/s eta 0:00:01\n",
      "\u001b[?25hCollecting geographiclib<2,>=1.49\n",
      "  Downloading geographiclib-1.50-py3-none-any.whl (38 kB)\n",
      "Installing collected packages: geographiclib, geopy\n",
      "Successfully installed geographiclib-1.50 geopy-2.1.0\n",
      "Defaulting to user installation because normal site-packages is not writeable\n",
      "Collecting folium\n",
      "  Downloading folium-0.12.1-py2.py3-none-any.whl (94 kB)\n",
      "\u001b[K     |████████████████████████████████| 94 kB 1.4 MB/s eta 0:00:01\n",
      "\u001b[?25hRequirement already satisfied: numpy in /Users/phillipkim/Library/Python/3.8/lib/python/site-packages (from folium) (1.19.5)\n",
      "Requirement already satisfied: jinja2>=2.9 in /Users/phillipkim/Library/Python/3.8/lib/python/site-packages (from folium) (2.11.2)\n",
      "Collecting branca>=0.3.0\n",
      "  Downloading branca-0.4.2-py3-none-any.whl (24 kB)\n",
      "Requirement already satisfied: requests in /Users/phillipkim/Library/Python/3.8/lib/python/site-packages (from folium) (2.25.1)\n",
      "Requirement already satisfied: MarkupSafe>=0.23 in /Users/phillipkim/Library/Python/3.8/lib/python/site-packages (from jinja2>=2.9->folium) (1.1.1)\n",
      "Requirement already satisfied: certifi>=2017.4.17 in /Users/phillipkim/Library/Python/3.8/lib/python/site-packages (from requests->folium) (2020.12.5)\n",
      "Requirement already satisfied: chardet<5,>=3.0.2 in /Users/phillipkim/Library/Python/3.8/lib/python/site-packages (from requests->folium) (4.0.0)\n",
      "Requirement already satisfied: urllib3<1.27,>=1.21.1 in /Users/phillipkim/Library/Python/3.8/lib/python/site-packages (from requests->folium) (1.26.2)\n",
      "Requirement already satisfied: idna<3,>=2.5 in /Users/phillipkim/Library/Python/3.8/lib/python/site-packages (from requests->folium) (2.10)\n",
      "Installing collected packages: branca, folium\n",
      "Successfully installed branca-0.4.2 folium-0.12.1\n"
     ]
    }
   ],
   "source": [
    "import numpy as np # library to handle data in a vectorized manner\n",
    "import pandas as pd # library for data analsysis\n",
    "pd.set_option('display.max_columns', None)\n",
    "pd.set_option('display.max_rows', None)\n",
    "import json # library to handle JSON files\n",
    "from geopy.geocoders import Nominatim # convert an address into latitude and longitude values\n",
    "import requests # library to handle requests\n",
    "from pandas.io.json import json_normalize # tranform JSON file into a pandas dataframe\n",
    "import matplotlib.cm as cm\n",
    "import matplotlib.colors as colors\n",
    "from sklearn.cluster import KMeans\n",
    "import folium # map rendering library"
   ]
  },
  {
   "cell_type": "code",
   "execution_count": null,
   "id": "premier-berkeley",
   "metadata": {},
   "outputs": [],
   "source": [
    "import requests\n",
    "from bs4 import BeautifulSoup\n",
    "url = 'https://en.wikipedia.org/wiki/Demographics_of_Toronto_neighbourhoods'\n",
    "page = requests.get(url)\n",
    "soup = BeautifulSoup(page.content, 'html.parser')\n",
    "table = soup.find('table', attrs={'class':'wikitable sortable jquery-tablesorter'})\n",
    "table_rows = table.find_all('tr')\n",
    "\n",
    "column_names = ['NAME', 'FM', 'Census Tracts', 'Population', 'Land Area (km2)', 'Density (people/km2)',\n",
    "               '% Change in Population since 2001', 'Average Income', 'Transit Commuting %', '% Renters',\n",
    "               ]\n",
    "l = []\n",
    "for tr in table_rows:\n",
    "    th = tr.find_all('th')\n",
    "    row = [tr.text for tr in th]\n",
    "    l.append(row)\n",
    "\n",
    "df = pd.DataFrame(l, columns=[\"A\", \"B\", ...])\n",
    "\n",
    "with open('newyork_data.json') as json_data:\n",
    "    newyork_data = json.load(json_data)\n",
    "    \n"
   ]
  }
 ],
 "metadata": {
  "kernelspec": {
   "display_name": "Python 3",
   "language": "python",
   "name": "python3"
  },
  "language_info": {
   "codemirror_mode": {
    "name": "ipython",
    "version": 3
   },
   "file_extension": ".py",
   "mimetype": "text/x-python",
   "name": "python",
   "nbconvert_exporter": "python",
   "pygments_lexer": "ipython3",
   "version": "3.8.2"
  }
 },
 "nbformat": 4,
 "nbformat_minor": 5
}
